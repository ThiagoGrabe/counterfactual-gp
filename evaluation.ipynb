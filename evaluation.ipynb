{
 "cells": [
  {
   "cell_type": "code",
   "execution_count": 1,
   "metadata": {
    "collapsed": true
   },
   "outputs": [],
   "source": [
    "import pickle\n",
    "import autograd.numpy as np\n",
    "import matplotlib.pyplot as plt\n",
    "\n",
    "from counterfactualgp.mean import LinearModel\n",
    "from counterfactualgp.gp import GP"
   ]
  },
  {
   "cell_type": "code",
   "execution_count": 2,
   "metadata": {
    "collapsed": true
   },
   "outputs": [],
   "source": [
    "with open('dataset/data_set_linear.pkl', 'rb') as fin:\n",
    "    data = pickle.load(fin)"
   ]
  },
  {
   "cell_type": "code",
   "execution_count": 3,
   "metadata": {
    "collapsed": false
   },
   "outputs": [
    {
     "name": "stdout",
     "output_type": "stream",
     "text": [
      "obj= [5274.23055624]\n",
      "obj= [4998.67921718]\n",
      "obj= [4662.77555246]\n",
      "obj= [4347.86993164]\n",
      "obj= [3896.09744266]\n",
      "obj= [3684.17057572]\n",
      "obj= [3640.96850842]\n",
      "obj= [3619.13266105]\n",
      "obj= [3612.19510764]\n",
      "obj= [3609.99499006]\n",
      "obj= [3609.93615312]\n",
      "obj= [3609.93452109]\n",
      "obj= [3609.93450978]\n",
      "obj= [3609.93450972]\n",
      "obj= [3609.93450972]\n",
      "obj= [3609.93450972]\n"
     ]
    }
   ],
   "source": [
    "gp = GP(1)\n",
    "gp.fit(data['training'], init = False)"
   ]
  },
  {
   "cell_type": "code",
   "execution_count": 4,
   "metadata": {
    "collapsed": false
   },
   "outputs": [],
   "source": [
    "y, x = data['testing'][0]\n",
    "t, rx = x\n",
    "t_hat = np.linspace(t[0], t[-1], num = 100)\n",
    "rx_hat = np.array([0] * len(t_hat))"
   ]
  },
  {
   "cell_type": "code",
   "execution_count": 5,
   "metadata": {
    "collapsed": false
   },
   "outputs": [],
   "source": [
    "yhat, cov_hat = gp.predict((t_hat, rx_hat), y, x)"
   ]
  },
  {
   "cell_type": "code",
   "execution_count": 8,
   "metadata": {
    "collapsed": false
   },
   "outputs": [],
   "source": [
    "y_std = np.diag(cov_hat)"
   ]
  },
  {
   "cell_type": "code",
   "execution_count": 12,
   "metadata": {
    "collapsed": false
   },
   "outputs": [
    {
     "data": {
      "image/png": "[encoded data removed]",
      "text/plain": [
       "<matplotlib.figure.Figure at 0x1164ee320>"
      ]
     },
     "metadata": {},
     "output_type": "display_data"
    }
   ],
   "source": [
    "plt.plot(t_hat, yhat, color='b')\n",
    "plt.scatter(t, y, marker='o', color='r')\n",
    "plt.fill_between(t_hat, yhat - y_std, yhat + y_std,\n",
    "                     alpha=0.2, color='k')\n",
    "plt.title('prediction')\n",
    "plt.show()"
   ]
  }
 ],
 "metadata": {
  "anaconda-cloud": {},
  "kernelspec": {
   "display_name": "Python [default]",
   "language": "python",
   "name": "python3"
  },
  "language_info": {
   "codemirror_mode": {
    "name": "ipython",
    "version": 3
   },
   "file_extension": ".py",
   "mimetype": "text/x-python",
   "name": "python",
   "nbconvert_exporter": "python",
   "pygments_lexer": "ipython3",
   "version": "3.5.2"
  },
  "toc": {
   "base_numbering": 1,
   "nav_menu": {},
   "number_sections": true,
   "sideBar": true,
   "skip_h1_title": false,
   "title_cell": "Table of Contents",
   "title_sidebar": "Contents",
   "toc_cell": false,
   "toc_position": {},
   "toc_section_display": true,
   "toc_window_display": false
  }
 },
 "nbformat": 4,
 "nbformat_minor": 2
}
