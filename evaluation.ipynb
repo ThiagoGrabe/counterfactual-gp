{
 "cells": [
  {
   "cell_type": "code",
   "execution_count": 1,
   "metadata": {
    "collapsed": false
   },
   "outputs": [],
   "source": [
    "import pickle\n",
    "import autograd.numpy as np\n",
    "import matplotlib.pyplot as plt\n",
    "\n",
    "from counterfactualgp.gp import GP\n",
    "from counterfactualgp.mean import linear_mean\n",
    "from counterfactualgp.cov import iid_cov"
   ]
  },
  {
   "cell_type": "code",
   "execution_count": 2,
   "metadata": {
    "collapsed": true
   },
   "outputs": [],
   "source": [
    "with open('dataset/data_set_linear.pkl', 'rb') as fin:\n",
    "    data = pickle.load(fin)"
   ]
  },
  {
   "cell_type": "code",
   "execution_count": 3,
   "metadata": {
    "collapsed": false
   },
   "outputs": [
    {
     "name": "stdout",
     "output_type": "stream",
     "text": [
      "obj= [5274.20287021]\n",
      "obj= [4998.60105686]\n",
      "obj= [4662.22381567]\n",
      "obj= [4346.9111116]\n",
      "obj= [3895.73444745]\n",
      "obj= [3683.0571393]\n",
      "obj= [3641.08006139]\n",
      "obj= [3616.64238971]\n",
      "obj= [3611.38369142]\n",
      "obj= [3609.07689281]\n",
      "obj= [3609.04709263]\n",
      "obj= [3609.04591298]\n",
      "obj= [3609.0459091]\n",
      "obj= [3609.04590908]\n",
      "obj= [3609.04590908]\n"
     ]
    }
   ],
   "source": [
    "m = linear_mean(1)\n",
    "gp = GP(m, iid_cov)\n",
    "gp.fit(data['training'], init = False)"
   ]
  },
  {
   "cell_type": "code",
   "execution_count": 4,
   "metadata": {
    "collapsed": false
   },
   "outputs": [],
   "source": [
    "y, x = data['testing'][0]\n",
    "t, rx = x\n",
    "t_hat = np.linspace(t[0], t[-1], num = 100)\n",
    "rx_hat = np.array([0] * len(t_hat))"
   ]
  },
  {
   "cell_type": "code",
   "execution_count": 5,
   "metadata": {
    "collapsed": false
   },
   "outputs": [],
   "source": [
    "yhat, cov_hat = gp.predict((t_hat, rx_hat), y, x)"
   ]
  },
  {
   "cell_type": "code",
   "execution_count": 6,
   "metadata": {
    "collapsed": false
   },
   "outputs": [],
   "source": [
    "y_std = np.diag(cov_hat)"
   ]
  },
  {
   "cell_type": "code",
   "execution_count": 7,
   "metadata": {
    "collapsed": false
   },
   "outputs": [
    {
     "data": {
      "image/png": "[encoded data removed]",
      "text/plain": [
       "<matplotlib.figure.Figure at 0x116366a90>"
      ]
     },
     "metadata": {},
     "output_type": "display_data"
    }
   ],
   "source": [
    "plt.plot(t_hat, yhat, color='b')\n",
    "plt.scatter(t, y, marker='o', color='r')\n",
    "plt.fill_between(t_hat, yhat - y_std, yhat + y_std,\n",
    "                     alpha=0.2, color='k')\n",
    "plt.title('prediction')\n",
    "plt.show()"
   ]
  }
 ],
 "metadata": {
  "anaconda-cloud": {},
  "kernelspec": {
   "display_name": "Python [default]",
   "language": "python",
   "name": "python3"
  },
  "language_info": {
   "codemirror_mode": {
    "name": "ipython",
    "version": 3
   },
   "file_extension": ".py",
   "mimetype": "text/x-python",
   "name": "python",
   "nbconvert_exporter": "python",
   "pygments_lexer": "ipython3",
   "version": "3.5.2"
  },
  "toc": {
   "base_numbering": 1,
   "nav_menu": {},
   "number_sections": true,
   "sideBar": true,
   "skip_h1_title": false,
   "title_cell": "Table of Contents",
   "title_sidebar": "Contents",
   "toc_cell": false,
   "toc_position": {},
   "toc_section_display": true,
   "toc_window_display": false
  }
 },
 "nbformat": 4,
 "nbformat_minor": 2
}
