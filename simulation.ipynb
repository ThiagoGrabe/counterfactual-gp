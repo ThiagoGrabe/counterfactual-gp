{
 "cells": [
  {
   "cell_type": "code",
   "execution_count": 2,
   "metadata": {
    "collapsed": false
   },
   "outputs": [],
   "source": [
    "import numpy as np\n",
    "import matplotlib.pyplot as plt\n",
    "\n",
    "from counterfactualgp import simulation"
   ]
  },
  {
   "cell_type": "code",
   "execution_count": 3,
   "metadata": {
    "collapsed": false
   },
   "outputs": [],
   "source": [
    "rng = np.random.RandomState(0)\n",
    "\n",
    "n_samples, n_train = 500, 300\n",
    "avg_obs = 15\n",
    "# Obs Time\n",
    "low, high = 0.0, 24.0\n",
    "prediction_times = [12.0]\n",
    "time = prediction_times[0]\n",
    "# Trajectory\n",
    "ln_a, ln_l, noise_scale = 2.0 * np.log(0.2), np.log(8.0), 0.1\n",
    "# Treatment\n",
    "rx_win, rx_effect = 2.0, 1.0\n",
    "policy1_params =  2.0, -0.5,    0.0  # History window, policy weight, policy bias\n",
    "policy2_params =  2.0,  0.5,    0.0\n",
    "policy3_params =  2.0,  1.0,    0.0\n",
    "policy4_params =  2.0, -0.5,    0.0"
   ]
  },
  {
   "cell_type": "code",
   "execution_count": 4,
   "metadata": {
    "collapsed": false
   },
   "outputs": [],
   "source": [
    "obs_proc = simulation.ObservationTimes(low, high, avg_obs)"
   ]
  },
  {
   "cell_type": "code",
   "execution_count": 5,
   "metadata": {
    "collapsed": true
   },
   "outputs": [],
   "source": [
    "traj_linear = simulation.Trajectory(lambda x: x*1.1 + 2.5)"
   ]
  },
  {
   "cell_type": "code",
   "execution_count": 6,
   "metadata": {
    "collapsed": false
   },
   "outputs": [],
   "source": [
    "samples = [simulation.sample_trajectory(traj_linear, obs_proc, ln_a, ln_l, noise_scale, rng) for _ in range(n_samples)]"
   ]
  },
  {
   "cell_type": "code",
   "execution_count": 17,
   "metadata": {
    "collapsed": false
   },
   "outputs": [
    {
     "data": {
      "image/png": "[encoded data removed]",
      "text/plain": [
       "<matplotlib.figure.Figure at 0x110f6a748>"
      ]
     },
     "metadata": {},
     "output_type": "display_data"
    }
   ],
   "source": [
    "plt.plot(samples[0][1], samples[0][0], marker = 'o')\n",
    "plt.title('before treatment')\n",
    "plt.show()"
   ]
  },
  {
   "cell_type": "code",
   "execution_count": 8,
   "metadata": {
    "collapsed": false
   },
   "outputs": [],
   "source": [
    "policy1 = simulation.TreatmentPolicy(*policy1_params, rx_win, rx_effect)\n",
    "policy2 = simulation.TreatmentPolicy(*policy2_params, rx_win, rx_effect)\n",
    "policy3 = simulation.TreatmentPolicy(*policy3_params, rx_win, rx_effect)\n",
    "policy4 = simulation.TreatmentPolicy(*policy4_params, rx_win, 0.0)  # Policy 1 with no effect."
   ]
  },
  {
   "cell_type": "code",
   "execution_count": 13,
   "metadata": {
    "collapsed": false
   },
   "outputs": [],
   "source": [
    "train2 = simulation.treat_data_set(samples[:n_train], policy2, rng)"
   ]
  },
  {
   "cell_type": "code",
   "execution_count": 18,
   "metadata": {
    "collapsed": false
   },
   "outputs": [
    {
     "data": {
      "image/png": "[encoded data removed]",
      "text/plain": [
       "<matplotlib.figure.Figure at 0x11100a5f8>"
      ]
     },
     "metadata": {},
     "output_type": "display_data"
    }
   ],
   "source": [
    "plt.plot(train2[0][1][0], train2[0][0], marker = 'o')\n",
    "plt.title('after treatment')\n",
    "plt.show()"
   ]
  }
 ],
 "metadata": {
  "anaconda-cloud": {},
  "kernelspec": {
   "display_name": "Python [default]",
   "language": "python",
   "name": "python3"
  },
  "language_info": {
   "codemirror_mode": {
    "name": "ipython",
    "version": 3
   },
   "file_extension": ".py",
   "mimetype": "text/x-python",
   "name": "python",
   "nbconvert_exporter": "python",
   "pygments_lexer": "ipython3",
   "version": "3.5.2"
  },
  "toc": {
   "base_numbering": 1,
   "nav_menu": {},
   "number_sections": true,
   "sideBar": true,
   "skip_h1_title": false,
   "title_cell": "Table of Contents",
   "title_sidebar": "Contents",
   "toc_cell": false,
   "toc_position": {},
   "toc_section_display": true,
   "toc_window_display": false
  }
 },
 "nbformat": 4,
 "nbformat_minor": 2
}
